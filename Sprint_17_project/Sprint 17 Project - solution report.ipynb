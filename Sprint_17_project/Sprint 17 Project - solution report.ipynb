{
 "cells": [
  {
   "cell_type": "markdown",
   "metadata": {},
   "source": [
    "# Solution Report:"
   ]
  },
  {
   "cell_type": "markdown",
   "metadata": {},
   "source": [
    "### 1. What steps of the plan were performed and what steps were skipped (explain why)?\n",
    "\n",
    "In the overall project the work plan was followed. \n",
    "\n",
    "[Work Plan]\n",
    "- We need to import the data and do nesecary data cleaning and preprocessing. This includes merging the data, filling in missing values and removing duplicates.\n",
    "- Feature Engeniring. We will want to create new features when the data is merged and cleaned to then extract new insights that may impact if a cleint is more likely to stay or churn.\n",
    "- EDA. Dive into what other trends that could be extracted that isn't intialy expressed in the data.\n",
    "- Prepare for Model training, train and validate model, and tune models when need to yield the best result.\n",
    "\n",
    "The work plan was quite solid and there was no need to skip any steps. I will say there was some features i enginered that i couldn't use in the model and weren't necesary to create."
   ]
  },
  {
   "cell_type": "markdown",
   "metadata": {},
   "source": [
    "### 2. What difficulties did you encounter and how did you manage to solve them?\n",
    "\n",
    "Where I ran into my challenges was mostly in the Model training. I originally didn't change some values to non missing and kept missing values. So I had to input a solution to make it so i can run the models with no issues. Otherwise, I didn't run into many issues that couldn't be quickly solved or solved with a little bit of patience."
   ]
  },
  {
   "cell_type": "markdown",
   "metadata": {},
   "source": [
    "### 3. What were some of the key steps to solving the task?\n",
    "\n",
    "The key steps of solving the task were definetly preprocessing and feature enginering. Adding new features and making sure features could be used for a model to train was very important. Also creating a good reviewing system to check if the model is a good quality model or not. Not including such metrics and making it easy to understand would have created more challenges for the project."
   ]
  },
  {
   "cell_type": "markdown",
   "metadata": {},
   "source": [
    "### 4. What is your final model and what quality score does it have?\n",
    "\n",
    "My final model was a lightGBM Model used with the unscaled features. \n",
    "\n",
    "- AUC-ROC score: 0.85\n",
    "- Accuracy score: 0.80"
   ]
  }
 ],
 "metadata": {
  "kernelspec": {
   "display_name": "Python 3 (ipykernel)",
   "language": "python",
   "name": "python3"
  },
  "language_info": {
   "codemirror_mode": {
    "name": "ipython",
    "version": 3
   },
   "file_extension": ".py",
   "mimetype": "text/x-python",
   "name": "python",
   "nbconvert_exporter": "python",
   "pygments_lexer": "ipython3",
   "version": "3.9.23"
  }
 },
 "nbformat": 4,
 "nbformat_minor": 4
}
